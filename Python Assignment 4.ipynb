{
 "cells": [
  {
   "cell_type": "markdown",
   "id": "e01c5cfc",
   "metadata": {},
   "source": [
    "1.1 Write a Python Program(with class concepts) to find the area of the triangle using the below formula.\n",
    "\n",
    "area = (s*(s-a)*(s-b)*(s-c)) ** 0.5\n",
    "\n",
    "Function to take the length of the sides of triangle from user should be defined in the parent class and function to calculate the area should be defined in subclass."
   ]
  },
  {
   "cell_type": "code",
   "execution_count": 2,
   "id": "ae50f2e5",
   "metadata": {},
   "outputs": [],
   "source": [
    "class length_of_traingle:\n",
    "    def __init__(self, length_of_side_a, length_of_side_b, length_of_side_c):\n",
    "        self.a=length_of_side_a\n",
    "        self.b=length_of_side_b\n",
    "        self.c=length_of_side_c\n",
    "class Area_of_traingle(length_of_traingle):\n",
    "    def __init__(self,a,b,c):\n",
    "        length_of_traingle.__init__(self,a,b,c)\n",
    "    def area_of_traingle(self):\n",
    "        s=self.a+self.b+self.c\n",
    "        Area=(s*(s-self.a)*(s-self.b)*(s-self.c))**0.5\n",
    "        return Area"
   ]
  },
  {
   "cell_type": "code",
   "execution_count": 3,
   "id": "44d7a4ec",
   "metadata": {},
   "outputs": [],
   "source": [
    "area=Area_of_traingle(5,8,7)"
   ]
  },
  {
   "cell_type": "code",
   "execution_count": 4,
   "id": "8e5efb26",
   "metadata": {},
   "outputs": [
    {
     "data": {
      "text/plain": [
       "216.33307652783935"
      ]
     },
     "execution_count": 4,
     "metadata": {},
     "output_type": "execute_result"
    }
   ],
   "source": [
    "area.area_of_traingle()"
   ]
  },
  {
   "cell_type": "markdown",
   "id": "96059f5c",
   "metadata": {},
   "source": [
    "1.2 Write a function filter_long_words() that takes a list of words and an integer n and returns\n",
    "the list of words that are longer than n."
   ]
  },
  {
   "cell_type": "code",
   "execution_count": 9,
   "id": "3bc1c6ef",
   "metadata": {},
   "outputs": [
    {
     "name": "stdout",
     "output_type": "stream",
     "text": [
      "please enter a value of integer for filtering the longer words than this integer: 4\n"
     ]
    },
    {
     "data": {
      "text/plain": [
       "['rajesh',\n",
       " 'shimbhu',\n",
       " 'ineuron',\n",
       " 'ramchandra',\n",
       " 'bhanupratap',\n",
       " 'shimbhu singh jadaun']"
      ]
     },
     "execution_count": 9,
     "metadata": {},
     "output_type": "execute_result"
    }
   ],
   "source": [
    "l=['raju','rajesh','yo','shimbhu','ravi','ineuron','ramchandra','raj','ramu','bhanupratap','shimbhu singh jadaun']\n",
    "def filter_long_words(l):\n",
    "    n=int(input(\"please enter a value of integer for filtering the longer words than this integer: \"))\n",
    "    l1=[]\n",
    "    for i in l:\n",
    "        if len(i)>n:\n",
    "            l1.append(i)\n",
    "    return l1\n",
    "filter_long_words(l)"
   ]
  },
  {
   "cell_type": "markdown",
   "id": "db727f9c",
   "metadata": {},
   "source": [
    "2.1 Write a Python program using function concept that maps list of words into a list of integers\n",
    "representing the lengths of the corresponding words.\n",
    "Hint: If a list [ ab,cde,erty] is passed on to the python function output should come as [2,3,4]\n",
    "Here 2,3 and 4 are the lengths of the words in the list."
   ]
  },
  {
   "cell_type": "code",
   "execution_count": 10,
   "id": "8bc89e0e",
   "metadata": {},
   "outputs": [
    {
     "data": {
      "text/plain": [
       "[4, 6, 2, 7, 4, 7, 10, 3, 4, 11, 20]"
      ]
     },
     "execution_count": 10,
     "metadata": {},
     "output_type": "execute_result"
    }
   ],
   "source": [
    "l=['raju','rajesh','yo','shimbhu','ravi','ineuron','ramchandra','raj','ramu','bhanupratap','shimbhu singh jadaun']\n",
    "def length_of_words(l):\n",
    "    l1=[]\n",
    "    for i in l:\n",
    "        l1.append(len(i))\n",
    "    return l1\n",
    "length_of_words(l)"
   ]
  },
  {
   "cell_type": "markdown",
   "id": "2f920d7f",
   "metadata": {},
   "source": [
    "2.2 Write a Python function which takes a character (i.e. a string of length 1) and returns True if\n",
    "it is a vowel, False otherwise."
   ]
  },
  {
   "cell_type": "code",
   "execution_count": 13,
   "id": "a85f7a75",
   "metadata": {},
   "outputs": [
    {
     "name": "stdout",
     "output_type": "stream",
     "text": [
      "please enter a character: e\n"
     ]
    },
    {
     "data": {
      "text/plain": [
       "True"
      ]
     },
     "execution_count": 13,
     "metadata": {},
     "output_type": "execute_result"
    }
   ],
   "source": [
    "def check_for_vowel():\n",
    "    vowels=['a','e','i','o','u']\n",
    "    while True:\n",
    "        v=input('please enter a character: ')\n",
    "        if len(v)!=1:\n",
    "            print(\"please enter a character not a word\")\n",
    "        else:\n",
    "            if v in vowels:\n",
    "                return True\n",
    "            else:\n",
    "                return False\n",
    "check_for_vowel()"
   ]
  },
  {
   "cell_type": "code",
   "execution_count": 12,
   "id": "db1c8197",
   "metadata": {},
   "outputs": [
    {
     "name": "stdout",
     "output_type": "stream",
     "text": [
      "please enter a character: f\n"
     ]
    },
    {
     "data": {
      "text/plain": [
       "False"
      ]
     },
     "execution_count": 12,
     "metadata": {},
     "output_type": "execute_result"
    }
   ],
   "source": [
    "check_for_vowel()"
   ]
  },
  {
   "cell_type": "code",
   "execution_count": 14,
   "id": "ba4da840",
   "metadata": {},
   "outputs": [
    {
     "name": "stdout",
     "output_type": "stream",
     "text": [
      "please enter a character: drgdht\n",
      "please enter a character not a word\n",
      "please enter a character: trur\n",
      "please enter a character not a word\n",
      "please enter a character: ufy\n",
      "please enter a character not a word\n",
      "please enter a character: a\n"
     ]
    },
    {
     "data": {
      "text/plain": [
       "True"
      ]
     },
     "execution_count": 14,
     "metadata": {},
     "output_type": "execute_result"
    }
   ],
   "source": [
    "check_for_vowel()"
   ]
  },
  {
   "cell_type": "code",
   "execution_count": null,
   "id": "e9ac6d1c",
   "metadata": {},
   "outputs": [],
   "source": []
  }
 ],
 "metadata": {
  "kernelspec": {
   "display_name": "Python 3 (ipykernel)",
   "language": "python",
   "name": "python3"
  },
  "language_info": {
   "codemirror_mode": {
    "name": "ipython",
    "version": 3
   },
   "file_extension": ".py",
   "mimetype": "text/x-python",
   "name": "python",
   "nbconvert_exporter": "python",
   "pygments_lexer": "ipython3",
   "version": "3.9.7"
  }
 },
 "nbformat": 4,
 "nbformat_minor": 5
}
